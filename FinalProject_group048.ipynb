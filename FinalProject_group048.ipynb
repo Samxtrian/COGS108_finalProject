{
 "cells": [
  {
   "cell_type": "markdown",
   "metadata": {},
   "source": [
    "# COGS 108 - Popular Majors and Employment Rates"
   ]
  },
  {
   "cell_type": "markdown",
   "metadata": {},
   "source": [
    "## Permissions\n",
    "\n",
    "Place an `X` in the appropriate bracket below to specify if you would like your group's project to be made available to the public. (Note that student names will be included (but PIDs will be scraped from any groups who include their PIDs).\n",
    "\n",
    "* [X] YES - make available\n",
    "* [  ] NO - keep private"
   ]
  },
  {
   "cell_type": "markdown",
   "metadata": {},
   "source": [
    "# Overview"
   ]
  },
  {
   "cell_type": "markdown",
   "metadata": {},
   "source": [
    "Declaring one’s major is often the first step in determining the future of college graduates, but do graduates in certain major departments have an easier time finding jobs than others? Our project explores the relationship between the popularity of one’s major and the subsequent rate of employment that these graduates are met with. Looking at the number of graduates declaring a particular major, our datasets provide the corresponding counts of male and female graduates, the number of graduates that were employed, as well as the counts of graduates working jobs requiring and not requiring college degrees. "
   ]
  },
  {
   "cell_type": "markdown",
   "metadata": {},
   "source": [
    "# Names\n",
    "\n",
    "- Alex Cheng\n",
    "- Samarth Arora\n",
    "- Terence Ting\n",
    "- Thomas Kolinek\n",
    "- Yicong Guo"
   ]
  },
  {
   "cell_type": "markdown",
   "metadata": {},
   "source": [
    "<a id='research_question'></a>\n",
    "# Research Question"
   ]
  },
  {
   "cell_type": "markdown",
   "metadata": {},
   "source": [
    "Is there a relationship between the popularity of one's major and the employment rate of related fields of work requiring an undergraduate degree in that particular major?\n"
   ]
  },
  {
   "cell_type": "markdown",
   "metadata": {},
   "source": [
    "<a id='background'></a>\n",
    "\n",
    "## Background & Prior Work"
   ]
  },
  {
   "cell_type": "markdown",
   "metadata": {},
   "source": [
    "Many high school students go to college hoping to get a degree so that they can find a satisfying job in the future. Many students may follow their passion, while others may simply pursue a degree that provides them with better career opportunities. However, students who do not attend college or do not have a college degree often struggle to find a job. According to the ‘‘Employment rates of college graduates’’, we can see that the fact that the employment rate was higher for those with higher levels of educational attainment, and in fact, the employment rate was highest for 25 to 34 year-olds with a bachelor’s degree while comparing to the employment rate of people who have some college degree or high school degree, therefore, we can tell that degrees are one of the most important factors that could affect employment rates. Moreover, it is not only the degree that affects employment rates, but also the popularity of a person's major. As we go deeper into the data that we collected we found out that not all the majors are valued equivalently in the workplace. Based on the analysis that we indicated, we conclude the fact that the popular majors such as STEM, are pre-professional and having a clear career track that is in high demand in society.\n",
    "\n",
    "*References*\n",
    "- 1) [Philosophy Degrees and Sales Jobs](https://www.insidehighered.com/news/2019/08/02/new-data-track-graduates-six-popular-majors-through-their-first-three-jobs)\n",
    "> In this article, data was taken from resume repositories and the first three jobs of graduates within six specific departments were analyzed. Quote: “the six majors were “not totally deterministic, but not totally irrelevant” to career pathways”, meaning there was some effect but it was not a strong correlation. One of the examples used regarded engineering grads and the likelihood of them going into industrial/mechanical engineering or software. The same goes for Language and philosophy grads who likely went into education and journalism/writing. One of the patterns that turned up was that “sales, marketing, management and business, and financial analysis” were common jobs amongst all grads, regardless of major.\n",
    "- 2) [Employment rates of college graduates](https://nces.ed.gov/fastfacts/display.asp?id=561)\n",
    "> A chart by the National Center for Education Statistics describing the employment rates of 25 to 34 year olds (in the year 2019). This chart graphs the employment rates of individuals of differing education levels: less than HS completion, HS completion, some college, and BA or higher degree. Furthermore, it is split into male and female, allowing us to see the difference in employment between the genders.\n",
    "- 3) [From Bachelor's Degree to Work](https://play.google.com/store/books/details?id=r1tYbAJBhpYC&rdid=book-r1tYbAJBhpYC&rdot=1)\n",
    "> This book details a study done with students of the 1992-93 academic year, where students were surveyed on their college enrollment and financial aid situations. In a follow-up survey approximately four years after graduation, participants were asked about details about their employment situation. At the end of the study, engineering majors were shown to be highest in satisfaction as they received positive outcomes for both salary and job benefits. This was similar for computer science majors who reported positive outcomes relative to all graduates. Nursing majors stood out as highest in job stability. Contrastingly, those who majored in education, humanities, and arts fared relatively poorly compared to all graduates, especially in salary and job benefits."
   ]
  },
  {
   "cell_type": "markdown",
   "metadata": {},
   "source": [
    "# Hypothesis\n"
   ]
  },
  {
   "cell_type": "markdown",
   "metadata": {},
   "source": [
    "We hypothesize that, on average, the more popular one’s major is, the higher the rate of employment within a field that requires a degree in said major. The more people within a declared major category, we expect to see a higher rate of employment requiring a degree in that field."
   ]
  },
  {
   "cell_type": "markdown",
   "metadata": {},
   "source": [
    "# Datasets"
   ]
  },
  {
   "cell_type": "markdown",
   "metadata": {},
   "source": [
    "**Name: grad-students.csv**\n",
    "- Link: https://www.kaggle.com/fivethirtyeight/fivethirtyeight-college-majors-dataset?select=grad-students.csv\n",
    "- Observations: 173\n",
    "- This dataset contains information regarding the count of graduate students (2010-2012, 25+ y/o) broken down by major and whether or not they are employed. It also counts the total number of undergraduate students broken down by major and whether or not they are employed.\n",
    "\n",
    "**Name: recent-grads.csv**\n",
    "- Link: https://www.kaggle.com/fivethirtyeight/fivethirtyeight-college-majors-dataset?select=recent-grads.csv\n",
    "- Observations: 173\n",
    "- This dataset contains information regarding the count of graduate students (2010-2012, <28 y/o) broken down by major, the count broken down by gender, and whether or not they are employed. It also displays the count of how many students’ employment require college degrees and the count of students working in service jobs.\n",
    "\n",
    "**Name: all-ages.csv**\n",
    "- Link: https://www.kaggle.com/fivethirtyeight/fivethirtyeight-college-majors-dataset?select=all-ages.csv\n",
    "- Observations: 173\n",
    "- This dataset contains information regarding the count of all students (2010-2012, no grad degree) broken down by major category and whether or not they are employed. It compares the total count of students, their employment status and whether or not they work full time.\n",
    "\n",
    "By combining grad-students.csv and recent-grads.csv, we can compare the employment rates of students broken down by major category and relate that to how many students are working in jobs relating to their major versus how many are working outside their major. This can then be related to all-ages.csv as it displays the total count of those working in a particular field, regardless of attending graduate school."
   ]
  },
  {
   "cell_type": "markdown",
   "metadata": {},
   "source": [
    "# Setup"
   ]
  },
  {
   "cell_type": "code",
   "execution_count": 1,
   "metadata": {},
   "outputs": [],
   "source": [
    "import numpy as np\n",
    "import pandas as pd\n",
    "import matplotlib.pyplot as plt\n",
    "import seaborn as sns\n",
    "\n",
    "import patsy\n",
    "import statsmodels.api as sm\n",
    "import scipy.stats as stats\n",
    "from scipy.stats import ttest_ind, chisquare, normaltest\n",
    "\n",
    "all_ages = pd.read_csv(\"https://raw.githubusercontent.com/Terence2018/group048/master/all-ages.csv\")\n",
    "recent_grads = pd.read_csv(\"https://raw.githubusercontent.com/Terence2018/group048/master/recent-grads.csv\")\n",
    "grad_students = pd.read_csv(\"https://raw.githubusercontent.com/Terence2018/group048/master/grad-students.csv\")"
   ]
  },
  {
   "cell_type": "markdown",
   "metadata": {},
   "source": [
    "# Data Cleaning"
   ]
  },
  {
   "cell_type": "markdown",
   "metadata": {},
   "source": [
    "We start by printing the columns for each of our datasets so we can examine which columns contain information relevant to our question."
   ]
  },
  {
   "cell_type": "code",
   "execution_count": 2,
   "metadata": {},
   "outputs": [
    {
     "name": "stdout",
     "output_type": "stream",
     "text": [
      "Index(['Major_code', 'Major', 'Major_category', 'Total', 'Employed',\n",
      "       'Employed_full_time_year_round', 'Unemployed', 'Unemployment_rate',\n",
      "       'Median', 'P25th', 'P75th'],\n",
      "      dtype='object')\n",
      "Index(['Rank', 'Major_code', 'Major', 'Total', 'Men', 'Women',\n",
      "       'Major_category', 'ShareWomen', 'Sample_size', 'Employed', 'Full_time',\n",
      "       'Part_time', 'Full_time_year_round', 'Unemployed', 'Unemployment_rate',\n",
      "       'Median', 'P25th', 'P75th', 'College_jobs', 'Non_college_jobs',\n",
      "       'Low_wage_jobs'],\n",
      "      dtype='object')\n",
      "Index(['Major_code', 'Major', 'Major_category', 'Grad_total',\n",
      "       'Grad_sample_size', 'Grad_employed', 'Grad_full_time_year_round',\n",
      "       'Grad_unemployed', 'Grad_unemployment_rate', 'Grad_median', 'Grad_P25',\n",
      "       'Grad_P75', 'Nongrad_total', 'Nongrad_employed',\n",
      "       'Nongrad_full_time_year_round', 'Nongrad_unemployed',\n",
      "       'Nongrad_unemployment_rate', 'Nongrad_median', 'Nongrad_P25',\n",
      "       'Nongrad_P75', 'Grad_share', 'Grad_premium'],\n",
      "      dtype='object')\n"
     ]
    }
   ],
   "source": [
    "print(all_ages.columns)\n",
    "print(recent_grads.columns)\n",
    "print(grad_students.columns)"
   ]
  },
  {
   "cell_type": "markdown",
   "metadata": {},
   "source": [
    "Since we're interested in employment rates and the popularity of a major (the number of students declaring that particular major), we want to keep columns corresponding to Major, Major category, Total counts, and Employed counts. In the case of `recent_grads` and `grad_students`, we also want to keep the columns relating to the employment situations.  \n",
    "\n",
    "For `recent_grads` that would be whether the student was employed in a job that required their major degree, employed in a job that *didn't* require their major degree, or worked in a low wage job.   \n",
    "\n",
    "For `grad_students`, we might also want to look at the counts of employment for graduate students as well as undergraduate students."
   ]
  },
  {
   "cell_type": "code",
   "execution_count": 3,
   "metadata": {},
   "outputs": [],
   "source": [
    "#Here, we trim the dataframes to keep only the columns we are interested in. \n",
    "all_ages = all_ages[['Major', 'Major_category',\n",
    "                     'Total', 'Employed']]\n",
    "\n",
    "recent_grads = recent_grads[['Major', 'Major_category',\n",
    "                             'Total', 'Men',\n",
    "                             'Women', 'Employed',\n",
    "                             'College_jobs', 'Non_college_jobs',\n",
    "                             'Low_wage_jobs']]\n",
    "\n",
    "grad_students = grad_students[['Major', 'Major_category',\n",
    "                               'Grad_total', 'Grad_employed',\n",
    "                               'Nongrad_total', 'Nongrad_employed']]"
   ]
  },
  {
   "cell_type": "code",
   "execution_count": 4,
   "metadata": {},
   "outputs": [],
   "source": [
    "#We will rename Nongrad_total and Nongrad_employed to undergrad to prevent confusion\n",
    "grad_students.rename(columns= {'Nongrad_total': 'Undergrad_total',\n",
    "                               'Nongrad_employed': 'Undergrad_employed'}, inplace=True)"
   ]
  },
  {
   "cell_type": "code",
   "execution_count": 5,
   "metadata": {},
   "outputs": [
    {
     "name": "stdout",
     "output_type": "stream",
     "text": [
      "0\n",
      "3\n",
      "0\n"
     ]
    }
   ],
   "source": [
    "#We check each dataframe for null values in the datasets\n",
    "print(all_ages.isnull().sum().sum())\n",
    "print(recent_grads.isnull().sum().sum())\n",
    "print(grad_students.isnull().sum().sum())"
   ]
  },
  {
   "cell_type": "code",
   "execution_count": 6,
   "metadata": {},
   "outputs": [
    {
     "data": {
      "text/plain": [
       "Major               0\n",
       "Major_category      0\n",
       "Total               1\n",
       "Men                 1\n",
       "Women               1\n",
       "Employed            0\n",
       "College_jobs        0\n",
       "Non_college_jobs    0\n",
       "Low_wage_jobs       0\n",
       "dtype: int64"
      ]
     },
     "execution_count": 6,
     "metadata": {},
     "output_type": "execute_result"
    }
   ],
   "source": [
    "#Determining which column `recent_grads` has null values\n",
    "recent_grads.isnull().sum()"
   ]
  },
  {
   "cell_type": "code",
   "execution_count": 7,
   "metadata": {},
   "outputs": [
    {
     "data": {
      "text/html": [
       "<div>\n",
       "<style scoped>\n",
       "    .dataframe tbody tr th:only-of-type {\n",
       "        vertical-align: middle;\n",
       "    }\n",
       "\n",
       "    .dataframe tbody tr th {\n",
       "        vertical-align: top;\n",
       "    }\n",
       "\n",
       "    .dataframe thead th {\n",
       "        text-align: right;\n",
       "    }\n",
       "</style>\n",
       "<table border=\"1\" class=\"dataframe\">\n",
       "  <thead>\n",
       "    <tr style=\"text-align: right;\">\n",
       "      <th></th>\n",
       "      <th>Major</th>\n",
       "      <th>Major_category</th>\n",
       "      <th>Total</th>\n",
       "      <th>Men</th>\n",
       "      <th>Women</th>\n",
       "      <th>Employed</th>\n",
       "      <th>College_jobs</th>\n",
       "      <th>Non_college_jobs</th>\n",
       "      <th>Low_wage_jobs</th>\n",
       "    </tr>\n",
       "  </thead>\n",
       "  <tbody>\n",
       "    <tr>\n",
       "      <th>21</th>\n",
       "      <td>FOOD SCIENCE</td>\n",
       "      <td>Agriculture &amp; Natural Resources</td>\n",
       "      <td>NaN</td>\n",
       "      <td>NaN</td>\n",
       "      <td>NaN</td>\n",
       "      <td>3149</td>\n",
       "      <td>1183</td>\n",
       "      <td>1274</td>\n",
       "      <td>485</td>\n",
       "    </tr>\n",
       "  </tbody>\n",
       "</table>\n",
       "</div>"
      ],
      "text/plain": [
       "           Major                   Major_category  Total  Men  Women  \\\n",
       "21  FOOD SCIENCE  Agriculture & Natural Resources    NaN  NaN    NaN   \n",
       "\n",
       "    Employed  College_jobs  Non_college_jobs  Low_wage_jobs  \n",
       "21      3149          1183              1274            485  "
      ]
     },
     "execution_count": 7,
     "metadata": {},
     "output_type": "execute_result"
    }
   ],
   "source": [
    "#Determining the index of the row that hall null values\n",
    "recent_grads[recent_grads['Total'].isnull()]"
   ]
  },
  {
   "cell_type": "code",
   "execution_count": 8,
   "metadata": {},
   "outputs": [
    {
     "data": {
      "text/plain": [
       "0"
      ]
     },
     "execution_count": 8,
     "metadata": {},
     "output_type": "execute_result"
    }
   ],
   "source": [
    "#Removing the null entry and confirming once more that there are no null values in the dataset\n",
    "recent_grads = recent_grads.drop(recent_grads.index[21])\n",
    "recent_grads.isnull().sum().sum()"
   ]
  },
  {
   "cell_type": "markdown",
   "metadata": {},
   "source": [
    "Now that we're done removing any empty cells from all our datasets, we will add a couple columns that will help us in analyzing the data. \n",
    "\n",
    "Since we want to look at relations between a major's popularity and the employment rate, we can't directly compare total counts and employed counts since the employed count is just a subset of the total count. Therefore, we need to add columns calculating the percent of the total that are employed.\n",
    "\n",
    "We added: \n",
    "- `%employed` to `all_ages`\n",
    "- `%college`, `%non`, `%low`, and `%employed` to `recent_grads`\n",
    "- `grad_employed` and `%undergrad_employed` to `grad_students`"
   ]
  },
  {
   "cell_type": "code",
   "execution_count": 9,
   "metadata": {},
   "outputs": [],
   "source": [
    "#all_ages\n",
    "    #%employed represents the percentage of all_ages that are employed\n",
    "    \n",
    "all_ages['%employed'] = all_ages['Employed'] / all_ages['Total']\n",
    "\n",
    "#recent_grads\n",
    "    #%college represents the percentage of recent_grads in that major that have jobs requiring college degrees\n",
    "    #%non represents the percentage of recent_grads in that major that have jobs not requiring college degrees\n",
    "    #%low represents the percentage of recent_grads in that major that have low wage jobs\n",
    "    #%employed represents the percentage of recent_grads in that major that have jobs\n",
    "    \n",
    "recent_grads['%college'] = recent_grads['College_jobs'] / recent_grads['Employed']\n",
    "recent_grads['%non'] = recent_grads['Non_college_jobs'] / recent_grads['Employed']\n",
    "recent_grads['%low'] = recent_grads['Low_wage_jobs'] / recent_grads['Employed']\n",
    "recent_grads['%employed'] = recent_grads['Employed'] / recent_grads['Total']\n",
    "\n",
    "#grad_students\n",
    "    #%grad_employed represents the percentage of grad students in that major who are employed\n",
    "    #%undergrad_employed represents the percentage of non grad students in that major who are employed\n",
    "    \n",
    "grad_students['%grad_employed'] = grad_students['Grad_employed'] / grad_students['Grad_total']\n",
    "grad_students['%undergrad_employed'] = grad_students['Undergrad_employed'] / grad_students['Undergrad_total']"
   ]
  },
  {
   "cell_type": "code",
   "execution_count": 10,
   "metadata": {},
   "outputs": [
    {
     "data": {
      "text/html": [
       "<div>\n",
       "<style scoped>\n",
       "    .dataframe tbody tr th:only-of-type {\n",
       "        vertical-align: middle;\n",
       "    }\n",
       "\n",
       "    .dataframe tbody tr th {\n",
       "        vertical-align: top;\n",
       "    }\n",
       "\n",
       "    .dataframe thead th {\n",
       "        text-align: right;\n",
       "    }\n",
       "</style>\n",
       "<table border=\"1\" class=\"dataframe\">\n",
       "  <thead>\n",
       "    <tr style=\"text-align: right;\">\n",
       "      <th></th>\n",
       "      <th>Major</th>\n",
       "      <th>Major_category</th>\n",
       "      <th>Total</th>\n",
       "      <th>Employed</th>\n",
       "      <th>%employed</th>\n",
       "    </tr>\n",
       "  </thead>\n",
       "  <tbody>\n",
       "    <tr>\n",
       "      <th>0</th>\n",
       "      <td>GENERAL AGRICULTURE</td>\n",
       "      <td>Agriculture &amp; Natural Resources</td>\n",
       "      <td>128148</td>\n",
       "      <td>90245</td>\n",
       "      <td>0.704225</td>\n",
       "    </tr>\n",
       "    <tr>\n",
       "      <th>1</th>\n",
       "      <td>AGRICULTURE PRODUCTION AND MANAGEMENT</td>\n",
       "      <td>Agriculture &amp; Natural Resources</td>\n",
       "      <td>95326</td>\n",
       "      <td>76865</td>\n",
       "      <td>0.806338</td>\n",
       "    </tr>\n",
       "    <tr>\n",
       "      <th>2</th>\n",
       "      <td>AGRICULTURAL ECONOMICS</td>\n",
       "      <td>Agriculture &amp; Natural Resources</td>\n",
       "      <td>33955</td>\n",
       "      <td>26321</td>\n",
       "      <td>0.775173</td>\n",
       "    </tr>\n",
       "    <tr>\n",
       "      <th>3</th>\n",
       "      <td>ANIMAL SCIENCES</td>\n",
       "      <td>Agriculture &amp; Natural Resources</td>\n",
       "      <td>103549</td>\n",
       "      <td>81177</td>\n",
       "      <td>0.783948</td>\n",
       "    </tr>\n",
       "    <tr>\n",
       "      <th>4</th>\n",
       "      <td>FOOD SCIENCE</td>\n",
       "      <td>Agriculture &amp; Natural Resources</td>\n",
       "      <td>24280</td>\n",
       "      <td>17281</td>\n",
       "      <td>0.711738</td>\n",
       "    </tr>\n",
       "  </tbody>\n",
       "</table>\n",
       "</div>"
      ],
      "text/plain": [
       "                                   Major                   Major_category  \\\n",
       "0                    GENERAL AGRICULTURE  Agriculture & Natural Resources   \n",
       "1  AGRICULTURE PRODUCTION AND MANAGEMENT  Agriculture & Natural Resources   \n",
       "2                 AGRICULTURAL ECONOMICS  Agriculture & Natural Resources   \n",
       "3                        ANIMAL SCIENCES  Agriculture & Natural Resources   \n",
       "4                           FOOD SCIENCE  Agriculture & Natural Resources   \n",
       "\n",
       "    Total  Employed  %employed  \n",
       "0  128148     90245   0.704225  \n",
       "1   95326     76865   0.806338  \n",
       "2   33955     26321   0.775173  \n",
       "3  103549     81177   0.783948  \n",
       "4   24280     17281   0.711738  "
      ]
     },
     "execution_count": 10,
     "metadata": {},
     "output_type": "execute_result"
    }
   ],
   "source": [
    "all_ages.head()"
   ]
  },
  {
   "cell_type": "code",
   "execution_count": 11,
   "metadata": {},
   "outputs": [
    {
     "data": {
      "text/html": [
       "<div>\n",
       "<style scoped>\n",
       "    .dataframe tbody tr th:only-of-type {\n",
       "        vertical-align: middle;\n",
       "    }\n",
       "\n",
       "    .dataframe tbody tr th {\n",
       "        vertical-align: top;\n",
       "    }\n",
       "\n",
       "    .dataframe thead th {\n",
       "        text-align: right;\n",
       "    }\n",
       "</style>\n",
       "<table border=\"1\" class=\"dataframe\">\n",
       "  <thead>\n",
       "    <tr style=\"text-align: right;\">\n",
       "      <th></th>\n",
       "      <th>Major</th>\n",
       "      <th>Major_category</th>\n",
       "      <th>Total</th>\n",
       "      <th>Men</th>\n",
       "      <th>Women</th>\n",
       "      <th>Employed</th>\n",
       "      <th>College_jobs</th>\n",
       "      <th>Non_college_jobs</th>\n",
       "      <th>Low_wage_jobs</th>\n",
       "      <th>%college</th>\n",
       "      <th>%non</th>\n",
       "      <th>%low</th>\n",
       "      <th>%employed</th>\n",
       "    </tr>\n",
       "  </thead>\n",
       "  <tbody>\n",
       "    <tr>\n",
       "      <th>0</th>\n",
       "      <td>PETROLEUM ENGINEERING</td>\n",
       "      <td>Engineering</td>\n",
       "      <td>2339.0</td>\n",
       "      <td>2057.0</td>\n",
       "      <td>282.0</td>\n",
       "      <td>1976</td>\n",
       "      <td>1534</td>\n",
       "      <td>364</td>\n",
       "      <td>193</td>\n",
       "      <td>0.776316</td>\n",
       "      <td>0.184211</td>\n",
       "      <td>0.097672</td>\n",
       "      <td>0.844805</td>\n",
       "    </tr>\n",
       "    <tr>\n",
       "      <th>1</th>\n",
       "      <td>MINING AND MINERAL ENGINEERING</td>\n",
       "      <td>Engineering</td>\n",
       "      <td>756.0</td>\n",
       "      <td>679.0</td>\n",
       "      <td>77.0</td>\n",
       "      <td>640</td>\n",
       "      <td>350</td>\n",
       "      <td>257</td>\n",
       "      <td>50</td>\n",
       "      <td>0.546875</td>\n",
       "      <td>0.401562</td>\n",
       "      <td>0.078125</td>\n",
       "      <td>0.846561</td>\n",
       "    </tr>\n",
       "    <tr>\n",
       "      <th>2</th>\n",
       "      <td>METALLURGICAL ENGINEERING</td>\n",
       "      <td>Engineering</td>\n",
       "      <td>856.0</td>\n",
       "      <td>725.0</td>\n",
       "      <td>131.0</td>\n",
       "      <td>648</td>\n",
       "      <td>456</td>\n",
       "      <td>176</td>\n",
       "      <td>0</td>\n",
       "      <td>0.703704</td>\n",
       "      <td>0.271605</td>\n",
       "      <td>0.000000</td>\n",
       "      <td>0.757009</td>\n",
       "    </tr>\n",
       "    <tr>\n",
       "      <th>3</th>\n",
       "      <td>NAVAL ARCHITECTURE AND MARINE ENGINEERING</td>\n",
       "      <td>Engineering</td>\n",
       "      <td>1258.0</td>\n",
       "      <td>1123.0</td>\n",
       "      <td>135.0</td>\n",
       "      <td>758</td>\n",
       "      <td>529</td>\n",
       "      <td>102</td>\n",
       "      <td>0</td>\n",
       "      <td>0.697889</td>\n",
       "      <td>0.134565</td>\n",
       "      <td>0.000000</td>\n",
       "      <td>0.602544</td>\n",
       "    </tr>\n",
       "    <tr>\n",
       "      <th>4</th>\n",
       "      <td>CHEMICAL ENGINEERING</td>\n",
       "      <td>Engineering</td>\n",
       "      <td>32260.0</td>\n",
       "      <td>21239.0</td>\n",
       "      <td>11021.0</td>\n",
       "      <td>25694</td>\n",
       "      <td>18314</td>\n",
       "      <td>4440</td>\n",
       "      <td>972</td>\n",
       "      <td>0.712773</td>\n",
       "      <td>0.172803</td>\n",
       "      <td>0.037830</td>\n",
       "      <td>0.796466</td>\n",
       "    </tr>\n",
       "  </tbody>\n",
       "</table>\n",
       "</div>"
      ],
      "text/plain": [
       "                                       Major Major_category    Total      Men  \\\n",
       "0                      PETROLEUM ENGINEERING    Engineering   2339.0   2057.0   \n",
       "1             MINING AND MINERAL ENGINEERING    Engineering    756.0    679.0   \n",
       "2                  METALLURGICAL ENGINEERING    Engineering    856.0    725.0   \n",
       "3  NAVAL ARCHITECTURE AND MARINE ENGINEERING    Engineering   1258.0   1123.0   \n",
       "4                       CHEMICAL ENGINEERING    Engineering  32260.0  21239.0   \n",
       "\n",
       "     Women  Employed  College_jobs  Non_college_jobs  Low_wage_jobs  %college  \\\n",
       "0    282.0      1976          1534               364            193  0.776316   \n",
       "1     77.0       640           350               257             50  0.546875   \n",
       "2    131.0       648           456               176              0  0.703704   \n",
       "3    135.0       758           529               102              0  0.697889   \n",
       "4  11021.0     25694         18314              4440            972  0.712773   \n",
       "\n",
       "       %non      %low  %employed  \n",
       "0  0.184211  0.097672   0.844805  \n",
       "1  0.401562  0.078125   0.846561  \n",
       "2  0.271605  0.000000   0.757009  \n",
       "3  0.134565  0.000000   0.602544  \n",
       "4  0.172803  0.037830   0.796466  "
      ]
     },
     "execution_count": 11,
     "metadata": {},
     "output_type": "execute_result"
    }
   ],
   "source": [
    "recent_grads.head()"
   ]
  },
  {
   "cell_type": "code",
   "execution_count": 12,
   "metadata": {},
   "outputs": [
    {
     "data": {
      "text/html": [
       "<div>\n",
       "<style scoped>\n",
       "    .dataframe tbody tr th:only-of-type {\n",
       "        vertical-align: middle;\n",
       "    }\n",
       "\n",
       "    .dataframe tbody tr th {\n",
       "        vertical-align: top;\n",
       "    }\n",
       "\n",
       "    .dataframe thead th {\n",
       "        text-align: right;\n",
       "    }\n",
       "</style>\n",
       "<table border=\"1\" class=\"dataframe\">\n",
       "  <thead>\n",
       "    <tr style=\"text-align: right;\">\n",
       "      <th></th>\n",
       "      <th>Major</th>\n",
       "      <th>Major_category</th>\n",
       "      <th>Grad_total</th>\n",
       "      <th>Grad_employed</th>\n",
       "      <th>Undergrad_total</th>\n",
       "      <th>Undergrad_employed</th>\n",
       "      <th>%grad_employed</th>\n",
       "      <th>%undergrad_employed</th>\n",
       "    </tr>\n",
       "  </thead>\n",
       "  <tbody>\n",
       "    <tr>\n",
       "      <th>0</th>\n",
       "      <td>CONSTRUCTION SERVICES</td>\n",
       "      <td>Industrial Arts &amp; Consumer Services</td>\n",
       "      <td>9173</td>\n",
       "      <td>7098</td>\n",
       "      <td>86062</td>\n",
       "      <td>73607</td>\n",
       "      <td>0.773793</td>\n",
       "      <td>0.855279</td>\n",
       "    </tr>\n",
       "    <tr>\n",
       "      <th>1</th>\n",
       "      <td>COMMERCIAL ART AND GRAPHIC DESIGN</td>\n",
       "      <td>Arts</td>\n",
       "      <td>53864</td>\n",
       "      <td>40492</td>\n",
       "      <td>461977</td>\n",
       "      <td>347166</td>\n",
       "      <td>0.751745</td>\n",
       "      <td>0.751479</td>\n",
       "    </tr>\n",
       "    <tr>\n",
       "      <th>2</th>\n",
       "      <td>HOSPITALITY MANAGEMENT</td>\n",
       "      <td>Business</td>\n",
       "      <td>24417</td>\n",
       "      <td>18368</td>\n",
       "      <td>179335</td>\n",
       "      <td>145597</td>\n",
       "      <td>0.752263</td>\n",
       "      <td>0.811872</td>\n",
       "    </tr>\n",
       "    <tr>\n",
       "      <th>3</th>\n",
       "      <td>COSMETOLOGY SERVICES AND CULINARY ARTS</td>\n",
       "      <td>Industrial Arts &amp; Consumer Services</td>\n",
       "      <td>5411</td>\n",
       "      <td>3590</td>\n",
       "      <td>37575</td>\n",
       "      <td>29738</td>\n",
       "      <td>0.663463</td>\n",
       "      <td>0.791430</td>\n",
       "    </tr>\n",
       "    <tr>\n",
       "      <th>4</th>\n",
       "      <td>COMMUNICATION TECHNOLOGIES</td>\n",
       "      <td>Computers &amp; Mathematics</td>\n",
       "      <td>9109</td>\n",
       "      <td>7512</td>\n",
       "      <td>53819</td>\n",
       "      <td>43163</td>\n",
       "      <td>0.824679</td>\n",
       "      <td>0.802003</td>\n",
       "    </tr>\n",
       "  </tbody>\n",
       "</table>\n",
       "</div>"
      ],
      "text/plain": [
       "                                    Major  \\\n",
       "0                   CONSTRUCTION SERVICES   \n",
       "1       COMMERCIAL ART AND GRAPHIC DESIGN   \n",
       "2                  HOSPITALITY MANAGEMENT   \n",
       "3  COSMETOLOGY SERVICES AND CULINARY ARTS   \n",
       "4              COMMUNICATION TECHNOLOGIES   \n",
       "\n",
       "                        Major_category  Grad_total  Grad_employed  \\\n",
       "0  Industrial Arts & Consumer Services        9173           7098   \n",
       "1                                 Arts       53864          40492   \n",
       "2                             Business       24417          18368   \n",
       "3  Industrial Arts & Consumer Services        5411           3590   \n",
       "4              Computers & Mathematics        9109           7512   \n",
       "\n",
       "   Undergrad_total  Undergrad_employed  %grad_employed  %undergrad_employed  \n",
       "0            86062               73607        0.773793             0.855279  \n",
       "1           461977              347166        0.751745             0.751479  \n",
       "2           179335              145597        0.752263             0.811872  \n",
       "3            37575               29738        0.663463             0.791430  \n",
       "4            53819               43163        0.824679             0.802003  "
      ]
     },
     "execution_count": 12,
     "metadata": {},
     "output_type": "execute_result"
    }
   ],
   "source": [
    "grad_students.head()"
   ]
  },
  {
   "cell_type": "markdown",
   "metadata": {},
   "source": [
    "While we want to see the relationships between individual majors and their employment rates, graphing 173 points along a barchart may become too cluttered. So we will create datasets which group the majors into their major categories for a more condensed representation."
   ]
  },
  {
   "cell_type": "code",
   "execution_count": 13,
   "metadata": {},
   "outputs": [],
   "source": [
    "all_ages_major_category = all_ages.groupby('Major_category').sum()\n",
    "\n",
    "#These columns need to be corrected after the .groupby().sum()\n",
    "all_ages_major_category['%employed'] = all_ages_major_category['Employed'] / all_ages_major_category['Total']\n",
    "\n",
    "recent_grads_major_category = recent_grads.groupby('Major_category').sum()\n",
    "\n",
    "#These columns need to be corrected after the .groupby().sum()\n",
    "recent_grads_major_category['%college'] = recent_grads_major_category['College_jobs'] / recent_grads_major_category['Total']\n",
    "recent_grads_major_category['%non'] = recent_grads_major_category['Non_college_jobs'] / recent_grads_major_category['Total']\n",
    "recent_grads_major_category['%low'] = recent_grads_major_category['Low_wage_jobs'] / recent_grads_major_category['Total']\n",
    "\n",
    "grad_students_major_category = grad_students.groupby('Major_category').sum()\n",
    "\n",
    "#These columns need to be corrected after the .groupby().sum()\n",
    "grad_students_major_category['%grad_employed'] = grad_students_major_category['Grad_employed'] / grad_students_major_category['Grad_total']\n",
    "grad_students_major_category['%undergrad_employed'] = grad_students_major_category['Undergrad_employed'] / grad_students_major_category['Undergrad_total']\n",
    "#This column is added to check the difference between %grad_employed and %undergradgrad_employed\n",
    "grad_students_major_category['%difference'] = grad_students_major_category['%grad_employed'] - grad_students_major_category['%undergrad_employed']"
   ]
  },
  {
   "cell_type": "code",
   "execution_count": 14,
   "metadata": {},
   "outputs": [
    {
     "data": {
      "text/html": [
       "<div>\n",
       "<style scoped>\n",
       "    .dataframe tbody tr th:only-of-type {\n",
       "        vertical-align: middle;\n",
       "    }\n",
       "\n",
       "    .dataframe tbody tr th {\n",
       "        vertical-align: top;\n",
       "    }\n",
       "\n",
       "    .dataframe thead th {\n",
       "        text-align: right;\n",
       "    }\n",
       "</style>\n",
       "<table border=\"1\" class=\"dataframe\">\n",
       "  <thead>\n",
       "    <tr style=\"text-align: right;\">\n",
       "      <th></th>\n",
       "      <th>Total</th>\n",
       "      <th>Employed</th>\n",
       "      <th>%employed</th>\n",
       "    </tr>\n",
       "    <tr>\n",
       "      <th>Major_category</th>\n",
       "      <th></th>\n",
       "      <th></th>\n",
       "      <th></th>\n",
       "    </tr>\n",
       "  </thead>\n",
       "  <tbody>\n",
       "    <tr>\n",
       "      <th>Agriculture &amp; Natural Resources</th>\n",
       "      <td>632437</td>\n",
       "      <td>480415</td>\n",
       "      <td>0.759625</td>\n",
       "    </tr>\n",
       "    <tr>\n",
       "      <th>Arts</th>\n",
       "      <td>1805865</td>\n",
       "      <td>1308695</td>\n",
       "      <td>0.724691</td>\n",
       "    </tr>\n",
       "    <tr>\n",
       "      <th>Biology &amp; Life Science</th>\n",
       "      <td>1338186</td>\n",
       "      <td>947058</td>\n",
       "      <td>0.707718</td>\n",
       "    </tr>\n",
       "    <tr>\n",
       "      <th>Business</th>\n",
       "      <td>9858741</td>\n",
       "      <td>7529851</td>\n",
       "      <td>0.763774</td>\n",
       "    </tr>\n",
       "    <tr>\n",
       "      <th>Communications &amp; Journalism</th>\n",
       "      <td>1803822</td>\n",
       "      <td>1423041</td>\n",
       "      <td>0.788903</td>\n",
       "    </tr>\n",
       "  </tbody>\n",
       "</table>\n",
       "</div>"
      ],
      "text/plain": [
       "                                   Total  Employed  %employed\n",
       "Major_category                                               \n",
       "Agriculture & Natural Resources   632437    480415   0.759625\n",
       "Arts                             1805865   1308695   0.724691\n",
       "Biology & Life Science           1338186    947058   0.707718\n",
       "Business                         9858741   7529851   0.763774\n",
       "Communications & Journalism      1803822   1423041   0.788903"
      ]
     },
     "execution_count": 14,
     "metadata": {},
     "output_type": "execute_result"
    }
   ],
   "source": [
    "all_ages_major_category.head()"
   ]
  },
  {
   "cell_type": "code",
   "execution_count": 15,
   "metadata": {},
   "outputs": [
    {
     "data": {
      "text/html": [
       "<div>\n",
       "<style scoped>\n",
       "    .dataframe tbody tr th:only-of-type {\n",
       "        vertical-align: middle;\n",
       "    }\n",
       "\n",
       "    .dataframe tbody tr th {\n",
       "        vertical-align: top;\n",
       "    }\n",
       "\n",
       "    .dataframe thead th {\n",
       "        text-align: right;\n",
       "    }\n",
       "</style>\n",
       "<table border=\"1\" class=\"dataframe\">\n",
       "  <thead>\n",
       "    <tr style=\"text-align: right;\">\n",
       "      <th></th>\n",
       "      <th>Total</th>\n",
       "      <th>Men</th>\n",
       "      <th>Women</th>\n",
       "      <th>Employed</th>\n",
       "      <th>College_jobs</th>\n",
       "      <th>Non_college_jobs</th>\n",
       "      <th>Low_wage_jobs</th>\n",
       "      <th>%college</th>\n",
       "      <th>%non</th>\n",
       "      <th>%low</th>\n",
       "      <th>%employed</th>\n",
       "    </tr>\n",
       "    <tr>\n",
       "      <th>Major_category</th>\n",
       "      <th></th>\n",
       "      <th></th>\n",
       "      <th></th>\n",
       "      <th></th>\n",
       "      <th></th>\n",
       "      <th></th>\n",
       "      <th></th>\n",
       "      <th></th>\n",
       "      <th></th>\n",
       "      <th></th>\n",
       "      <th></th>\n",
       "    </tr>\n",
       "  </thead>\n",
       "  <tbody>\n",
       "    <tr>\n",
       "      <th>Agriculture &amp; Natural Resources</th>\n",
       "      <td>75620.0</td>\n",
       "      <td>40357.0</td>\n",
       "      <td>35263.0</td>\n",
       "      <td>63794</td>\n",
       "      <td>18677</td>\n",
       "      <td>33217</td>\n",
       "      <td>7414</td>\n",
       "      <td>0.246985</td>\n",
       "      <td>0.439262</td>\n",
       "      <td>0.098043</td>\n",
       "      <td>7.745427</td>\n",
       "    </tr>\n",
       "    <tr>\n",
       "      <th>Arts</th>\n",
       "      <td>357130.0</td>\n",
       "      <td>134390.0</td>\n",
       "      <td>222740.0</td>\n",
       "      <td>288114</td>\n",
       "      <td>94785</td>\n",
       "      <td>163720</td>\n",
       "      <td>60116</td>\n",
       "      <td>0.265408</td>\n",
       "      <td>0.458433</td>\n",
       "      <td>0.168331</td>\n",
       "      <td>6.525364</td>\n",
       "    </tr>\n",
       "    <tr>\n",
       "      <th>Biology &amp; Life Science</th>\n",
       "      <td>453862.0</td>\n",
       "      <td>184919.0</td>\n",
       "      <td>268943.0</td>\n",
       "      <td>302797</td>\n",
       "      <td>151233</td>\n",
       "      <td>127182</td>\n",
       "      <td>42742</td>\n",
       "      <td>0.333214</td>\n",
       "      <td>0.280222</td>\n",
       "      <td>0.094174</td>\n",
       "      <td>9.807596</td>\n",
       "    </tr>\n",
       "    <tr>\n",
       "      <th>Business</th>\n",
       "      <td>1302376.0</td>\n",
       "      <td>667852.0</td>\n",
       "      <td>634524.0</td>\n",
       "      <td>1088742</td>\n",
       "      <td>148538</td>\n",
       "      <td>496570</td>\n",
       "      <td>126788</td>\n",
       "      <td>0.114052</td>\n",
       "      <td>0.381280</td>\n",
       "      <td>0.097351</td>\n",
       "      <td>10.785298</td>\n",
       "    </tr>\n",
       "    <tr>\n",
       "      <th>Communications &amp; Journalism</th>\n",
       "      <td>392601.0</td>\n",
       "      <td>131921.0</td>\n",
       "      <td>260680.0</td>\n",
       "      <td>330660</td>\n",
       "      <td>86556</td>\n",
       "      <td>172992</td>\n",
       "      <td>49595</td>\n",
       "      <td>0.220468</td>\n",
       "      <td>0.440631</td>\n",
       "      <td>0.126324</td>\n",
       "      <td>3.378136</td>\n",
       "    </tr>\n",
       "  </tbody>\n",
       "</table>\n",
       "</div>"
      ],
      "text/plain": [
       "                                     Total       Men     Women  Employed  \\\n",
       "Major_category                                                             \n",
       "Agriculture & Natural Resources    75620.0   40357.0   35263.0     63794   \n",
       "Arts                              357130.0  134390.0  222740.0    288114   \n",
       "Biology & Life Science            453862.0  184919.0  268943.0    302797   \n",
       "Business                         1302376.0  667852.0  634524.0   1088742   \n",
       "Communications & Journalism       392601.0  131921.0  260680.0    330660   \n",
       "\n",
       "                                 College_jobs  Non_college_jobs  \\\n",
       "Major_category                                                    \n",
       "Agriculture & Natural Resources         18677             33217   \n",
       "Arts                                    94785            163720   \n",
       "Biology & Life Science                 151233            127182   \n",
       "Business                               148538            496570   \n",
       "Communications & Journalism             86556            172992   \n",
       "\n",
       "                                 Low_wage_jobs  %college      %non      %low  \\\n",
       "Major_category                                                                 \n",
       "Agriculture & Natural Resources           7414  0.246985  0.439262  0.098043   \n",
       "Arts                                     60116  0.265408  0.458433  0.168331   \n",
       "Biology & Life Science                   42742  0.333214  0.280222  0.094174   \n",
       "Business                                126788  0.114052  0.381280  0.097351   \n",
       "Communications & Journalism              49595  0.220468  0.440631  0.126324   \n",
       "\n",
       "                                 %employed  \n",
       "Major_category                              \n",
       "Agriculture & Natural Resources   7.745427  \n",
       "Arts                              6.525364  \n",
       "Biology & Life Science            9.807596  \n",
       "Business                         10.785298  \n",
       "Communications & Journalism       3.378136  "
      ]
     },
     "execution_count": 15,
     "metadata": {},
     "output_type": "execute_result"
    }
   ],
   "source": [
    "recent_grads_major_category.head()"
   ]
  },
  {
   "cell_type": "code",
   "execution_count": 16,
   "metadata": {},
   "outputs": [
    {
     "data": {
      "text/html": [
       "<div>\n",
       "<style scoped>\n",
       "    .dataframe tbody tr th:only-of-type {\n",
       "        vertical-align: middle;\n",
       "    }\n",
       "\n",
       "    .dataframe tbody tr th {\n",
       "        vertical-align: top;\n",
       "    }\n",
       "\n",
       "    .dataframe thead th {\n",
       "        text-align: right;\n",
       "    }\n",
       "</style>\n",
       "<table border=\"1\" class=\"dataframe\">\n",
       "  <thead>\n",
       "    <tr style=\"text-align: right;\">\n",
       "      <th></th>\n",
       "      <th>Grad_total</th>\n",
       "      <th>Grad_employed</th>\n",
       "      <th>Undergrad_total</th>\n",
       "      <th>Undergrad_employed</th>\n",
       "      <th>%grad_employed</th>\n",
       "      <th>%undergrad_employed</th>\n",
       "      <th>%difference</th>\n",
       "    </tr>\n",
       "    <tr>\n",
       "      <th>Major_category</th>\n",
       "      <th></th>\n",
       "      <th></th>\n",
       "      <th></th>\n",
       "      <th></th>\n",
       "      <th></th>\n",
       "      <th></th>\n",
       "      <th></th>\n",
       "    </tr>\n",
       "  </thead>\n",
       "  <tbody>\n",
       "    <tr>\n",
       "      <th>Agriculture &amp; Natural Resources</th>\n",
       "      <td>241342</td>\n",
       "      <td>179287</td>\n",
       "      <td>599239</td>\n",
       "      <td>453541</td>\n",
       "      <td>0.742875</td>\n",
       "      <td>0.756862</td>\n",
       "      <td>-0.013986</td>\n",
       "    </tr>\n",
       "    <tr>\n",
       "      <th>Arts</th>\n",
       "      <td>580416</td>\n",
       "      <td>422450</td>\n",
       "      <td>1657523</td>\n",
       "      <td>1194452</td>\n",
       "      <td>0.727840</td>\n",
       "      <td>0.720625</td>\n",
       "      <td>0.007215</td>\n",
       "    </tr>\n",
       "    <tr>\n",
       "      <th>Biology &amp; Life Science</th>\n",
       "      <td>1656556</td>\n",
       "      <td>1365336</td>\n",
       "      <td>1145597</td>\n",
       "      <td>831399</td>\n",
       "      <td>0.824202</td>\n",
       "      <td>0.725734</td>\n",
       "      <td>0.098467</td>\n",
       "    </tr>\n",
       "    <tr>\n",
       "      <th>Business</th>\n",
       "      <td>2718897</td>\n",
       "      <td>2124495</td>\n",
       "      <td>9345634</td>\n",
       "      <td>7123852</td>\n",
       "      <td>0.781381</td>\n",
       "      <td>0.762265</td>\n",
       "      <td>0.019116</td>\n",
       "    </tr>\n",
       "    <tr>\n",
       "      <th>Communications &amp; Journalism</th>\n",
       "      <td>462880</td>\n",
       "      <td>368390</td>\n",
       "      <td>1635679</td>\n",
       "      <td>1285961</td>\n",
       "      <td>0.795865</td>\n",
       "      <td>0.786194</td>\n",
       "      <td>0.009671</td>\n",
       "    </tr>\n",
       "  </tbody>\n",
       "</table>\n",
       "</div>"
      ],
      "text/plain": [
       "                                 Grad_total  Grad_employed  Undergrad_total  \\\n",
       "Major_category                                                                \n",
       "Agriculture & Natural Resources      241342         179287           599239   \n",
       "Arts                                 580416         422450          1657523   \n",
       "Biology & Life Science              1656556        1365336          1145597   \n",
       "Business                            2718897        2124495          9345634   \n",
       "Communications & Journalism          462880         368390          1635679   \n",
       "\n",
       "                                 Undergrad_employed  %grad_employed  \\\n",
       "Major_category                                                        \n",
       "Agriculture & Natural Resources              453541        0.742875   \n",
       "Arts                                        1194452        0.727840   \n",
       "Biology & Life Science                       831399        0.824202   \n",
       "Business                                    7123852        0.781381   \n",
       "Communications & Journalism                 1285961        0.795865   \n",
       "\n",
       "                                 %undergrad_employed  %difference  \n",
       "Major_category                                                     \n",
       "Agriculture & Natural Resources             0.756862    -0.013986  \n",
       "Arts                                        0.720625     0.007215  \n",
       "Biology & Life Science                      0.725734     0.098467  \n",
       "Business                                    0.762265     0.019116  \n",
       "Communications & Journalism                 0.786194     0.009671  "
      ]
     },
     "execution_count": 16,
     "metadata": {},
     "output_type": "execute_result"
    }
   ],
   "source": [
    "grad_students_major_category.head()"
   ]
  },
  {
   "cell_type": "markdown",
   "metadata": {},
   "source": [
    "# Data Analysis & Results"
   ]
  },
  {
   "cell_type": "markdown",
   "metadata": {},
   "source": [
    "We can take a look at the average employment rate across all majors as well as the average amount of students per major."
   ]
  },
  {
   "cell_type": "code",
   "execution_count": 17,
   "metadata": {},
   "outputs": [
    {
     "data": {
      "text/html": [
       "<div>\n",
       "<style scoped>\n",
       "    .dataframe tbody tr th:only-of-type {\n",
       "        vertical-align: middle;\n",
       "    }\n",
       "\n",
       "    .dataframe tbody tr th {\n",
       "        vertical-align: top;\n",
       "    }\n",
       "\n",
       "    .dataframe thead th {\n",
       "        text-align: right;\n",
       "    }\n",
       "</style>\n",
       "<table border=\"1\" class=\"dataframe\">\n",
       "  <thead>\n",
       "    <tr style=\"text-align: right;\">\n",
       "      <th></th>\n",
       "      <th>Total</th>\n",
       "      <th>Employed</th>\n",
       "      <th>%employed</th>\n",
       "    </tr>\n",
       "  </thead>\n",
       "  <tbody>\n",
       "    <tr>\n",
       "      <th>count</th>\n",
       "      <td>1.730000e+02</td>\n",
       "      <td>1.730000e+02</td>\n",
       "      <td>173.000000</td>\n",
       "    </tr>\n",
       "    <tr>\n",
       "      <th>mean</th>\n",
       "      <td>2.302566e+05</td>\n",
       "      <td>1.661620e+05</td>\n",
       "      <td>0.724111</td>\n",
       "    </tr>\n",
       "    <tr>\n",
       "      <th>std</th>\n",
       "      <td>4.220685e+05</td>\n",
       "      <td>3.073244e+05</td>\n",
       "      <td>0.076085</td>\n",
       "    </tr>\n",
       "    <tr>\n",
       "      <th>min</th>\n",
       "      <td>2.396000e+03</td>\n",
       "      <td>1.492000e+03</td>\n",
       "      <td>0.382387</td>\n",
       "    </tr>\n",
       "    <tr>\n",
       "      <th>25%</th>\n",
       "      <td>2.428000e+04</td>\n",
       "      <td>1.728100e+04</td>\n",
       "      <td>0.677554</td>\n",
       "    </tr>\n",
       "    <tr>\n",
       "      <th>50%</th>\n",
       "      <td>7.579100e+04</td>\n",
       "      <td>5.656400e+04</td>\n",
       "      <td>0.731075</td>\n",
       "    </tr>\n",
       "    <tr>\n",
       "      <th>75%</th>\n",
       "      <td>2.057630e+05</td>\n",
       "      <td>1.428790e+05</td>\n",
       "      <td>0.780281</td>\n",
       "    </tr>\n",
       "    <tr>\n",
       "      <th>max</th>\n",
       "      <td>3.123510e+06</td>\n",
       "      <td>2.354398e+06</td>\n",
       "      <td>0.859982</td>\n",
       "    </tr>\n",
       "  </tbody>\n",
       "</table>\n",
       "</div>"
      ],
      "text/plain": [
       "              Total      Employed   %employed\n",
       "count  1.730000e+02  1.730000e+02  173.000000\n",
       "mean   2.302566e+05  1.661620e+05    0.724111\n",
       "std    4.220685e+05  3.073244e+05    0.076085\n",
       "min    2.396000e+03  1.492000e+03    0.382387\n",
       "25%    2.428000e+04  1.728100e+04    0.677554\n",
       "50%    7.579100e+04  5.656400e+04    0.731075\n",
       "75%    2.057630e+05  1.428790e+05    0.780281\n",
       "max    3.123510e+06  2.354398e+06    0.859982"
      ]
     },
     "execution_count": 17,
     "metadata": {},
     "output_type": "execute_result"
    }
   ],
   "source": [
    "all_ages.describe()"
   ]
  },
  {
   "cell_type": "markdown",
   "metadata": {},
   "source": [
    "Furthermore, we could take a look at the average employment rates and student counts per major category to get a better idea of the distribution across major categories. We'll sort the Total counts by highest to lowest to get an idea of the popularity of certain major categories."
   ]
  },
  {
   "cell_type": "code",
   "execution_count": 18,
   "metadata": {},
   "outputs": [
    {
     "data": {
      "text/html": [
       "<div>\n",
       "<style scoped>\n",
       "    .dataframe tbody tr th:only-of-type {\n",
       "        vertical-align: middle;\n",
       "    }\n",
       "\n",
       "    .dataframe tbody tr th {\n",
       "        vertical-align: top;\n",
       "    }\n",
       "\n",
       "    .dataframe thead th {\n",
       "        text-align: right;\n",
       "    }\n",
       "</style>\n",
       "<table border=\"1\" class=\"dataframe\">\n",
       "  <thead>\n",
       "    <tr style=\"text-align: right;\">\n",
       "      <th></th>\n",
       "      <th>Total</th>\n",
       "      <th>Employed</th>\n",
       "      <th>%employed</th>\n",
       "    </tr>\n",
       "    <tr>\n",
       "      <th>Major_category</th>\n",
       "      <th></th>\n",
       "      <th></th>\n",
       "      <th></th>\n",
       "    </tr>\n",
       "  </thead>\n",
       "  <tbody>\n",
       "    <tr>\n",
       "      <th>Agriculture &amp; Natural Resources</th>\n",
       "      <td>63243.700000</td>\n",
       "      <td>48041.500000</td>\n",
       "      <td>0.755805</td>\n",
       "    </tr>\n",
       "    <tr>\n",
       "      <th>Arts</th>\n",
       "      <td>225733.125000</td>\n",
       "      <td>163586.875000</td>\n",
       "      <td>0.741598</td>\n",
       "    </tr>\n",
       "    <tr>\n",
       "      <th>Biology &amp; Life Science</th>\n",
       "      <td>95584.714286</td>\n",
       "      <td>67647.000000</td>\n",
       "      <td>0.719768</td>\n",
       "    </tr>\n",
       "    <tr>\n",
       "      <th>Business</th>\n",
       "      <td>758364.692308</td>\n",
       "      <td>579219.307692</td>\n",
       "      <td>0.786149</td>\n",
       "    </tr>\n",
       "    <tr>\n",
       "      <th>Communications &amp; Journalism</th>\n",
       "      <td>450955.500000</td>\n",
       "      <td>355760.250000</td>\n",
       "      <td>0.787218</td>\n",
       "    </tr>\n",
       "    <tr>\n",
       "      <th>Computers &amp; Mathematics</th>\n",
       "      <td>161943.454545</td>\n",
       "      <td>128237.000000</td>\n",
       "      <td>0.801695</td>\n",
       "    </tr>\n",
       "    <tr>\n",
       "      <th>Education</th>\n",
       "      <td>293757.375000</td>\n",
       "      <td>177074.937500</td>\n",
       "      <td>0.634540</td>\n",
       "    </tr>\n",
       "    <tr>\n",
       "      <th>Engineering</th>\n",
       "      <td>123310.793103</td>\n",
       "      <td>90412.620690</td>\n",
       "      <td>0.727751</td>\n",
       "    </tr>\n",
       "    <tr>\n",
       "      <th>Health</th>\n",
       "      <td>245904.916667</td>\n",
       "      <td>182724.333333</td>\n",
       "      <td>0.720580</td>\n",
       "    </tr>\n",
       "    <tr>\n",
       "      <th>Humanities &amp; Liberal Arts</th>\n",
       "      <td>249222.333333</td>\n",
       "      <td>166611.666667</td>\n",
       "      <td>0.679025</td>\n",
       "    </tr>\n",
       "    <tr>\n",
       "      <th>Industrial Arts &amp; Consumer Services</th>\n",
       "      <td>147685.428571</td>\n",
       "      <td>107683.142857</td>\n",
       "      <td>0.718328</td>\n",
       "    </tr>\n",
       "    <tr>\n",
       "      <th>Interdisciplinary</th>\n",
       "      <td>45199.000000</td>\n",
       "      <td>35706.000000</td>\n",
       "      <td>0.789973</td>\n",
       "    </tr>\n",
       "    <tr>\n",
       "      <th>Law &amp; Public Policy</th>\n",
       "      <td>180585.200000</td>\n",
       "      <td>143784.800000</td>\n",
       "      <td>0.754302</td>\n",
       "    </tr>\n",
       "    <tr>\n",
       "      <th>Physical Sciences</th>\n",
       "      <td>102531.800000</td>\n",
       "      <td>70712.600000</td>\n",
       "      <td>0.717248</td>\n",
       "    </tr>\n",
       "    <tr>\n",
       "      <th>Psychology &amp; Social Work</th>\n",
       "      <td>220808.666667</td>\n",
       "      <td>156887.000000</td>\n",
       "      <td>0.688919</td>\n",
       "    </tr>\n",
       "    <tr>\n",
       "      <th>Social Science</th>\n",
       "      <td>294902.777778</td>\n",
       "      <td>207978.111111</td>\n",
       "      <td>0.718207</td>\n",
       "    </tr>\n",
       "  </tbody>\n",
       "</table>\n",
       "</div>"
      ],
      "text/plain": [
       "                                             Total       Employed  %employed\n",
       "Major_category                                                              \n",
       "Agriculture & Natural Resources       63243.700000   48041.500000   0.755805\n",
       "Arts                                 225733.125000  163586.875000   0.741598\n",
       "Biology & Life Science                95584.714286   67647.000000   0.719768\n",
       "Business                             758364.692308  579219.307692   0.786149\n",
       "Communications & Journalism          450955.500000  355760.250000   0.787218\n",
       "Computers & Mathematics              161943.454545  128237.000000   0.801695\n",
       "Education                            293757.375000  177074.937500   0.634540\n",
       "Engineering                          123310.793103   90412.620690   0.727751\n",
       "Health                               245904.916667  182724.333333   0.720580\n",
       "Humanities & Liberal Arts            249222.333333  166611.666667   0.679025\n",
       "Industrial Arts & Consumer Services  147685.428571  107683.142857   0.718328\n",
       "Interdisciplinary                     45199.000000   35706.000000   0.789973\n",
       "Law & Public Policy                  180585.200000  143784.800000   0.754302\n",
       "Physical Sciences                    102531.800000   70712.600000   0.717248\n",
       "Psychology & Social Work             220808.666667  156887.000000   0.688919\n",
       "Social Science                       294902.777778  207978.111111   0.718207"
      ]
     },
     "execution_count": 18,
     "metadata": {},
     "output_type": "execute_result"
    }
   ],
   "source": [
    "all_ages.groupby('Major_category').mean()"
   ]
  },
  {
   "cell_type": "markdown",
   "metadata": {},
   "source": [
    "Here, we are graphing the total counts of students within each major category to see which major category is most popular (containing the most students declaring that major department)."
   ]
  },
  {
   "cell_type": "code",
   "execution_count": 19,
   "metadata": {},
   "outputs": [
    {
     "data": {
      "text/plain": [
       "<matplotlib.axes._subplots.AxesSubplot at 0x7fe6fef058d0>"
      ]
     },
     "execution_count": 19,
     "metadata": {},
     "output_type": "execute_result"
    },
    {
     "data": {
      "image/png": "[encoded data removed]",
      "text/plain": [
       "<Figure size 432x288 with 1 Axes>"
      ]
     },
     "metadata": {
      "needs_background": "light"
     },
     "output_type": "display_data"
    }
   ],
   "source": [
    "all_ages_major_category.sort_values('Total', ascending=False)[['Total']].plot(kind='bar', color='DarkBlue')"
   ]
  },
  {
   "cell_type": "markdown",
   "metadata": {},
   "source": [
    "From this we can see that the Business major department is the most popular, containing almost more than double the amount of students in the second most popular major department of Education. We can also take a look at the percent of students within those major categories that are employed."
   ]
  },
  {
   "cell_type": "code",
   "execution_count": 20,
   "metadata": {},
   "outputs": [
    {
     "data": {
      "text/plain": [
       "<matplotlib.axes._subplots.AxesSubplot at 0x7fe6fce193d0>"
      ]
     },
     "execution_count": 20,
     "metadata": {},
     "output_type": "execute_result"
    },
    {
     "data": {
      "image/png": "[encoded data removed]",
      "text/plain": [
       "<Figure size 432x288 with 1 Axes>"
      ]
     },
     "metadata": {
      "needs_background": "light"
     },
     "output_type": "display_data"
    }
   ],
   "source": [
    "all_ages_major_category.sort_values('%employed', ascending=False)[['%employed']].plot(kind='bar')"
   ]
  },
  {
   "cell_type": "markdown",
   "metadata": {},
   "source": [
    "From this above graph, we can see that, even though Business was the most popular major category in terms of counts, it is only 5th in percent employed. Education as second most popular is actually last in percent employed. So we can start to see that even though a major category is popular does not mean its percent employment is automatically higher compared to others. \n",
    "\n",
    "Furthermore, we can dive deeper into the percent employed by looking at the percent of students employed in jobs requiring their major degree. In the below graph we compare `%college` to the Total counts within each major category as it represents the percent of students who go into jobs requiring their major degree."
   ]
  },
  {
   "cell_type": "code",
   "execution_count": 21,
   "metadata": {},
   "outputs": [
    {
     "data": {
      "text/plain": [
       "<matplotlib.axes._subplots.AxesSubplot at 0x7fe6fcd37b50>"
      ]
     },
     "execution_count": 21,
     "metadata": {},
     "output_type": "execute_result"
    },
    {
     "data": {
      "image/png": "[encoded data removed]",
      "text/plain": [
       "<Figure size 432x288 with 1 Axes>"
      ]
     },
     "metadata": {
      "needs_background": "light"
     },
     "output_type": "display_data"
    }
   ],
   "source": [
    "recent_grads_major_category.sort_values('Total', ascending=False)[['%college']].plot(kind='bar', color='blue')"
   ]
  },
  {
   "cell_type": "markdown",
   "metadata": {},
   "source": [
    "From this graph we can see that the major departments of Education, Engineering, Health, Computers & Mathematics, Physical Sciences, and Interdisciplinary have roughly the highest percentage of graduates working in jobs requiring degrees. Business, while still being the most popular major category, has the lowest percentage of graduates using their Business degree in their jobs."
   ]
  },
  {
   "cell_type": "code",
   "execution_count": 22,
   "metadata": {},
   "outputs": [
    {
     "data": {
      "text/plain": [
       "<matplotlib.axes._subplots.AxesSubplot at 0x7fe6fcca5310>"
      ]
     },
     "execution_count": 22,
     "metadata": {},
     "output_type": "execute_result"
    },
    {
     "data": {
      "image/png": "[encoded data removed]",
      "text/plain": [
       "<Figure size 432x288 with 1 Axes>"
      ]
     },
     "metadata": {
      "needs_background": "light"
     },
     "output_type": "display_data"
    }
   ],
   "source": [
    "recent_grads_major_category.sort_values('Total', ascending=False)[['%non', '%low']].plot(kind='bar',color='green' 'red')"
   ]
  },
  {
   "cell_type": "markdown",
   "metadata": {},
   "source": [
    "Intuitively, major departments that had a lower percentage of graduates utilizing their degrees now have higher percentages of graduates working in jobs not requiring their major degree. The percent of graduates working low wage jobs is spread across all major categories, regardless of popularity, the highest being Arts, followed by Humanities & Liberal Arts and Communications & Journalism.\n",
    "\n",
    "Since we were concerned with undergraduate degrees in our research question, we could also compare the employment rates of undergraduate students and those of graduate students."
   ]
  },
  {
   "cell_type": "code",
   "execution_count": 23,
   "metadata": {},
   "outputs": [
    {
     "data": {
      "text/plain": [
       "<matplotlib.axes._subplots.AxesSubplot at 0x7fe6fcb78810>"
      ]
     },
     "execution_count": 23,
     "metadata": {},
     "output_type": "execute_result"
    },
    {
     "data": {
      "image/png": "[encoded data removed]",
      "text/plain": [
       "<Figure size 432x288 with 1 Axes>"
      ]
     },
     "metadata": {
      "needs_background": "light"
     },
     "output_type": "display_data"
    }
   ],
   "source": [
    "grad_students_major_category[['%grad_employed', '%undergrad_employed']].plot(kind='bar')"
   ]
  },
  {
   "cell_type": "markdown",
   "metadata": {},
   "source": [
    "It looks like the rate of employment of graduate students and undergraduate students are roughly similar, but we can graph the difference to make sure."
   ]
  },
  {
   "cell_type": "code",
   "execution_count": 24,
   "metadata": {},
   "outputs": [
    {
     "data": {
      "text/plain": [
       "<matplotlib.axes._subplots.AxesSubplot at 0x7fe6fcae8410>"
      ]
     },
     "execution_count": 24,
     "metadata": {},
     "output_type": "execute_result"
    },
    {
     "data": {
      "image/png": "[encoded data removed]",
      "text/plain": [
       "<Figure size 432x288 with 1 Axes>"
      ]
     },
     "metadata": {
      "needs_background": "light"
     },
     "output_type": "display_data"
    }
   ],
   "source": [
    "grad_students_major_category['%difference'].sort_values(ascending=True).plot(kind='bar', color='green')"
   ]
  },
  {
   "cell_type": "markdown",
   "metadata": {},
   "source": [
    "From this, we can see that the difference between employment rates of graduate students versus undergraduate students never exceeds around 10%, the highest difference being those majoring in Biology & Life Science. \n",
    "\n",
    "We also see the major departments Computer & Mathematics and Agriculture & Natural Resources having negative percentages, meaning the percent of undergraduate student employment was higher than employment rate of Graduate students. This might indicate that more off these students acquire their degree and choose not to go to Graduate school after college, but still have success in finding jobs."
   ]
  },
  {
   "cell_type": "markdown",
   "metadata": {},
   "source": [
    "Next, we will look at the distribution of jobs for recent graduates. We will be looking at the percent of recent graduates that have college-level jobs, non-college jobs, and low-wage jobs."
   ]
  },
  {
   "cell_type": "code",
   "execution_count": 25,
   "metadata": {},
   "outputs": [
    {
     "data": {
      "text/plain": [
       "<Figure size 432x288 with 0 Axes>"
      ]
     },
     "execution_count": 25,
     "metadata": {},
     "output_type": "execute_result"
    },
    {
     "data": {
      "image/png": "[encoded data removed]",
      "text/plain": [
       "<Figure size 432x288 with 1 Axes>"
      ]
     },
     "metadata": {
      "needs_background": "light"
     },
     "output_type": "display_data"
    },
    {
     "data": {
      "text/plain": [
       "<Figure size 432x288 with 0 Axes>"
      ]
     },
     "metadata": {},
     "output_type": "display_data"
    }
   ],
   "source": [
    "sns.distplot(recent_grads['%college'])\n",
    "sns.distplot(recent_grads['%non'], color='g')\n",
    "sns.distplot(recent_grads['%low'], color='r')\n",
    "plt.xlabel(\"Percent Level of Employment\")\n",
    "plt.ylabel(\"Density\")\n",
    "plt.legend(['%College', '%Non','%Low'])\n",
    "plt.figure()"
   ]
  },
  {
   "cell_type": "markdown",
   "metadata": {},
   "source": [
    "From this, we can see that the distribution of graduates working in jobs requiring their degrees and graduates working in jobs not requiring their degrees are roughly bimodal. Yet, we can also notice that the distribution of graduates working in low wage jobs is heavily right skewed. This distribution being heavily right skewed should be expected as it shows that the distribution of the percentage of students going into low wage jobs is much lower than that of other employment situations. This could represent the fact that students pursuing undergraduate degrees do not often go into low wage jobs.\n",
    "\n",
    "Furthermore, we can take a look at the relationship between the total counts of undergraduates and the corresponding percent of which go into jobs requiring their degrees. "
   ]
  },
  {
   "cell_type": "code",
   "execution_count": 26,
   "metadata": {},
   "outputs": [
    {
     "data": {
      "text/plain": [
       "<matplotlib.axes._subplots.AxesSubplot at 0x7fe6fc93a150>"
      ]
     },
     "execution_count": 26,
     "metadata": {},
     "output_type": "execute_result"
    },
    {
     "data": {
      "image/png": "[encoded data removed]",
      "text/plain": [
       "<Figure size 432x288 with 1 Axes>"
      ]
     },
     "metadata": {
      "needs_background": "light"
     },
     "output_type": "display_data"
    }
   ],
   "source": [
    "sns.regplot(data=recent_grads, x='Total', y='%college', color='blue')"
   ]
  },
  {
   "cell_type": "markdown",
   "metadata": {},
   "source": [
    "From this, we can see that there is a large number of niche majors that skew the regression line downwards, so we can take a look at the more popular majors to get an idea of their distribution."
   ]
  },
  {
   "cell_type": "code",
   "execution_count": 27,
   "metadata": {},
   "outputs": [
    {
     "data": {
      "text/plain": [
       "<matplotlib.axes._subplots.AxesSubplot at 0x7fe702fd2e90>"
      ]
     },
     "execution_count": 27,
     "metadata": {},
     "output_type": "execute_result"
    },
    {
     "data": {
      "image/png": "[encoded data removed]",
      "text/plain": [
       "<Figure size 432x288 with 1 Axes>"
      ]
     },
     "metadata": {
      "needs_background": "light"
     },
     "output_type": "display_data"
    }
   ],
   "source": [
    "#finding the most popular majors by seeing which rows have higher than 100,000 students in that particular major.\n",
    "most_popular = recent_grads[recent_grads['Total'] > 100000]\n",
    "\n",
    "sns.regplot(data=most_popular, x='Total', y='%college')"
   ]
  },
  {
   "cell_type": "code",
   "execution_count": 28,
   "metadata": {},
   "outputs": [
    {
     "data": {
      "text/html": [
       "<div>\n",
       "<style scoped>\n",
       "    .dataframe tbody tr th:only-of-type {\n",
       "        vertical-align: middle;\n",
       "    }\n",
       "\n",
       "    .dataframe tbody tr th {\n",
       "        vertical-align: top;\n",
       "    }\n",
       "\n",
       "    .dataframe thead th {\n",
       "        text-align: right;\n",
       "    }\n",
       "</style>\n",
       "<table border=\"1\" class=\"dataframe\">\n",
       "  <thead>\n",
       "    <tr style=\"text-align: right;\">\n",
       "      <th></th>\n",
       "      <th>Major</th>\n",
       "      <th>Major_category</th>\n",
       "      <th>Total</th>\n",
       "      <th>Men</th>\n",
       "      <th>Women</th>\n",
       "      <th>Employed</th>\n",
       "      <th>College_jobs</th>\n",
       "      <th>Non_college_jobs</th>\n",
       "      <th>Low_wage_jobs</th>\n",
       "      <th>%college</th>\n",
       "      <th>%non</th>\n",
       "      <th>%low</th>\n",
       "      <th>%employed</th>\n",
       "    </tr>\n",
       "  </thead>\n",
       "  <tbody>\n",
       "    <tr>\n",
       "      <th>34</th>\n",
       "      <td>NURSING</td>\n",
       "      <td>Health</td>\n",
       "      <td>209394.0</td>\n",
       "      <td>21773.0</td>\n",
       "      <td>187621.0</td>\n",
       "      <td>180903</td>\n",
       "      <td>151643</td>\n",
       "      <td>26146</td>\n",
       "      <td>6193</td>\n",
       "      <td>0.838256</td>\n",
       "      <td>0.14453</td>\n",
       "      <td>0.034234</td>\n",
       "      <td>0.863936</td>\n",
       "    </tr>\n",
       "  </tbody>\n",
       "</table>\n",
       "</div>"
      ],
      "text/plain": [
       "      Major Major_category     Total      Men     Women  Employed  \\\n",
       "34  NURSING         Health  209394.0  21773.0  187621.0    180903   \n",
       "\n",
       "    College_jobs  Non_college_jobs  Low_wage_jobs  %college     %non  \\\n",
       "34        151643             26146           6193  0.838256  0.14453   \n",
       "\n",
       "        %low  %employed  \n",
       "34  0.034234   0.863936  "
      ]
     },
     "execution_count": 28,
     "metadata": {},
     "output_type": "execute_result"
    }
   ],
   "source": [
    "most_popular.sort_values('%college', ascending=False).head(1)"
   ]
  },
  {
   "cell_type": "markdown",
   "metadata": {},
   "source": [
    "Although there is a slight disadvantage that comes with getting a job that requires a degree according to the total number of people in a particular major, other factors have a significant impact. An example being the Nursing major which, while being one of the most popular majors, has a high percentage of students going into nursing careers. Other majors which are more popular have a lower percentage of students utilizing their degree, one being Business which has one of the lowest ratios of students utilizing their degree. "
   ]
  },
  {
   "cell_type": "markdown",
   "metadata": {},
   "source": [
    "Now, we can take a look at the correlation between the three different level of jobs with a regression analysis."
   ]
  },
  {
   "cell_type": "code",
   "execution_count": 29,
   "metadata": {},
   "outputs": [
    {
     "name": "stdout",
     "output_type": "stream",
     "text": [
      "                            OLS Regression Results                            \n",
      "==============================================================================\n",
      "Dep. Variable:            per_college   R-squared:                       0.027\n",
      "Model:                            OLS   Adj. R-squared:                  0.021\n",
      "Method:                 Least Squares   F-statistic:                     4.616\n",
      "Date:                Wed, 17 Mar 2021   Prob (F-statistic):             0.0331\n",
      "Time:                        16:20:09   Log-Likelihood:                 36.722\n",
      "No. Observations:                 171   AIC:                            -69.44\n",
      "Df Residuals:                     169   BIC:                            -63.16\n",
      "Df Model:                           1                                         \n",
      "Covariance Type:            nonrobust                                         \n",
      "==============================================================================\n",
      "                 coef    std err          t      P>|t|      [0.025      0.975]\n",
      "------------------------------------------------------------------------------\n",
      "Intercept      0.4684      0.018     26.459      0.000       0.433       0.503\n",
      "Total      -5.088e-07   2.37e-07     -2.149      0.033   -9.76e-07   -4.13e-08\n",
      "==============================================================================\n",
      "Omnibus:                       19.301   Durbin-Watson:                   1.615\n",
      "Prob(Omnibus):                  0.000   Jarque-Bera (JB):                6.472\n",
      "Skew:                           0.142   Prob(JB):                       0.0393\n",
      "Kurtosis:                       2.090   Cond. No.                     8.81e+04\n",
      "==============================================================================\n",
      "\n",
      "Warnings:\n",
      "[1] Standard Errors assume that the covariance matrix of the errors is correctly specified.\n",
      "[2] The condition number is large, 8.81e+04. This might indicate that there are\n",
      "strong multicollinearity or other numerical problems.\n"
     ]
    }
   ],
   "source": [
    "#change the column title of %college since OLS doesn't recognize the column's name\n",
    "percent_recent_grads = recent_grads\n",
    "percent_recent_grads['per_college'] = percent_recent_grads['%college']\n",
    "\n",
    "outcome, predictor = patsy.dmatrices('per_college ~ Total', percent_recent_grads)\n",
    "mod = sm.OLS(outcome, predictor)\n",
    "res = mod.fit()\n",
    "print(res.summary())"
   ]
  },
  {
   "cell_type": "markdown",
   "metadata": {},
   "source": [
    "Looking at our coefficient, we can see that its an extremely small number. This suggests that the effect is pretty small, which is further reflected in the p-value (0.033). We can therefore conclude that based on the data we have, there is a relationship between the number of recent grads and their level of employment but that effect is quite minimal."
   ]
  },
  {
   "cell_type": "markdown",
   "metadata": {},
   "source": [
    "Next, we will take a general look at the percentage of employment amongst all ages and graph its distribution."
   ]
  },
  {
   "cell_type": "code",
   "execution_count": 30,
   "metadata": {},
   "outputs": [
    {
     "data": {
      "text/plain": [
       "<matplotlib.axes._subplots.AxesSubplot at 0x7fe703ed6f90>"
      ]
     },
     "execution_count": 30,
     "metadata": {},
     "output_type": "execute_result"
    },
    {
     "data": {
      "image/png": "[encoded data removed]",
      "text/plain": [
       "<Figure size 432x288 with 1 Axes>"
      ]
     },
     "metadata": {
      "needs_background": "light"
     },
     "output_type": "display_data"
    }
   ],
   "source": [
    "sns.distplot(all_ages['%employed'])"
   ]
  },
  {
   "cell_type": "markdown",
   "metadata": {},
   "source": [
    "**DISTRIBUTION ANALYSIS**"
   ]
  },
  {
   "cell_type": "markdown",
   "metadata": {},
   "source": [
    "Now, we can take a look at the correlation between perecentage employment and the total with a regression analysis."
   ]
  },
  {
   "cell_type": "code",
   "execution_count": 31,
   "metadata": {},
   "outputs": [
    {
     "name": "stdout",
     "output_type": "stream",
     "text": [
      "                            OLS Regression Results                            \n",
      "==============================================================================\n",
      "Dep. Variable:           per_employed   R-squared:                       0.000\n",
      "Model:                            OLS   Adj. R-squared:                 -0.006\n",
      "Method:                 Least Squares   F-statistic:                   0.05440\n",
      "Date:                Wed, 17 Mar 2021   Prob (F-statistic):              0.816\n",
      "Time:                        16:20:09   Log-Likelihood:                 200.68\n",
      "No. Observations:                 173   AIC:                            -397.4\n",
      "Df Residuals:                     171   BIC:                            -391.1\n",
      "Df Model:                           1                                         \n",
      "Covariance Type:            nonrobust                                         \n",
      "==============================================================================\n",
      "                 coef    std err          t      P>|t|      [0.025      0.975]\n",
      "------------------------------------------------------------------------------\n",
      "Intercept      0.7249      0.007    109.626      0.000       0.712       0.738\n",
      "Total      -3.215e-09   1.38e-08     -0.233      0.816   -3.04e-08     2.4e-08\n",
      "==============================================================================\n",
      "Omnibus:                       34.716   Durbin-Watson:                   1.578\n",
      "Prob(Omnibus):                  0.000   Jarque-Bera (JB):               63.397\n",
      "Skew:                          -0.971   Prob(JB):                     1.71e-14\n",
      "Kurtosis:                       5.241   Cond. No.                     5.47e+05\n",
      "==============================================================================\n",
      "\n",
      "Warnings:\n",
      "[1] Standard Errors assume that the covariance matrix of the errors is correctly specified.\n",
      "[2] The condition number is large, 5.47e+05. This might indicate that there are\n",
      "strong multicollinearity or other numerical problems.\n"
     ]
    }
   ],
   "source": [
    "#change the column title of %employed since OLS doesn't recognize the column's name\n",
    "percent_all_ages = all_ages\n",
    "percent_all_ages['per_employed'] = percent_all_ages['%employed']\n",
    "\n",
    "outcome, predictor = patsy.dmatrices('per_employed ~ Total', percent_all_ages)\n",
    "mod = sm.OLS(outcome, predictor)\n",
    "res = mod.fit()\n",
    "print(res.summary())"
   ]
  },
  {
   "cell_type": "markdown",
   "metadata": {},
   "source": [
    "Looking at our coefficient, we can see that its an extremely small number. This suggests that the effect is pretty small, which is further reflected in the p-value. We can therefore conclude that based on the data we have, there is a relationship between the total and percent employment but that effect is quite minimal."
   ]
  },
  {
   "cell_type": "markdown",
   "metadata": {},
   "source": [
    "Next, we will take a general look at the percentage of employment amongst graduate and undergraduate students and graph its distribution."
   ]
  },
  {
   "cell_type": "code",
   "execution_count": 32,
   "metadata": {},
   "outputs": [
    {
     "data": {
      "text/plain": [
       "<Figure size 432x288 with 0 Axes>"
      ]
     },
     "execution_count": 32,
     "metadata": {},
     "output_type": "execute_result"
    },
    {
     "data": {
      "image/png": "[encoded data removed]",
      "text/plain": [
       "<Figure size 432x288 with 1 Axes>"
      ]
     },
     "metadata": {
      "needs_background": "light"
     },
     "output_type": "display_data"
    },
    {
     "data": {
      "text/plain": [
       "<Figure size 432x288 with 0 Axes>"
      ]
     },
     "metadata": {},
     "output_type": "display_data"
    }
   ],
   "source": [
    "sns.distplot(grad_students['%grad_employed'])\n",
    "sns.distplot(grad_students['%undergrad_employed'], color='r')\n",
    "plt.xlabel(\"Percent Employed\")\n",
    "plt.ylabel(\"Density\")\n",
    "plt.legend(['%Grad', '%Undergrad'])\n",
    "plt.figure()"
   ]
  },
  {
   "cell_type": "markdown",
   "metadata": {},
   "source": [
    "Now, we can take a look at the correlation between percentage graduate employed and number of graduates with a regression analysis."
   ]
  },
  {
   "cell_type": "code",
   "execution_count": 33,
   "metadata": {},
   "outputs": [
    {
     "name": "stdout",
     "output_type": "stream",
     "text": [
      "                            OLS Regression Results                            \n",
      "==============================================================================\n",
      "Dep. Variable:      per_grad_employed   R-squared:                       0.009\n",
      "Model:                            OLS   Adj. R-squared:                  0.003\n",
      "Method:                 Least Squares   F-statistic:                     1.518\n",
      "Date:                Wed, 17 Mar 2021   Prob (F-statistic):              0.220\n",
      "Time:                        16:20:09   Log-Likelihood:                 185.68\n",
      "No. Observations:                 173   AIC:                            -367.4\n",
      "Df Residuals:                     171   BIC:                            -361.1\n",
      "Df Model:                           1                                         \n",
      "Covariance Type:            nonrobust                                         \n",
      "==============================================================================\n",
      "                 coef    std err          t      P>|t|      [0.025      0.975]\n",
      "------------------------------------------------------------------------------\n",
      "Intercept      0.7545      0.007    103.022      0.000       0.740       0.769\n",
      "Grad_total  -3.56e-08   2.89e-08     -1.232      0.220   -9.26e-08    2.14e-08\n",
      "==============================================================================\n",
      "Omnibus:                       38.607   Durbin-Watson:                   1.844\n",
      "Prob(Omnibus):                  0.000   Jarque-Bera (JB):               71.234\n",
      "Skew:                          -1.072   Prob(JB):                     3.40e-16\n",
      "Kurtosis:                       5.299   Cond. No.                     2.93e+05\n",
      "==============================================================================\n",
      "\n",
      "Warnings:\n",
      "[1] Standard Errors assume that the covariance matrix of the errors is correctly specified.\n",
      "[2] The condition number is large, 2.93e+05. This might indicate that there are\n",
      "strong multicollinearity or other numerical problems.\n"
     ]
    }
   ],
   "source": [
    "#change the column title of %grad_employed and %undergrad_employed since OLS doesn't recognize the column's name\n",
    "percent_grad_students = grad_students\n",
    "percent_grad_students['per_grad_employed'] = percent_grad_students['%grad_employed']\n",
    "percent_grad_students['per_undergrad_employed'] = percent_grad_students['%undergrad_employed']\n",
    "\n",
    "outcome, predictor = patsy.dmatrices('per_grad_employed ~ Grad_total', percent_grad_students)\n",
    "mod = sm.OLS(outcome, predictor)\n",
    "res = mod.fit()\n",
    "print(res.summary())"
   ]
  },
  {
   "cell_type": "markdown",
   "metadata": {},
   "source": [
    "Looking at our coefficient, we can see that its an extremely small number. This suggests that the effect is pretty small, which is further reflected in the p-value. We can therefore conclude that based on the data we have, there is a relationship between the graduate total and percent graduate employed but that effect is quite minimal."
   ]
  },
  {
   "cell_type": "markdown",
   "metadata": {},
   "source": [
    "Now, we can take a look at the correlation between percentage undergraduate employed and number of undergraduate employed with a regression analysis."
   ]
  },
  {
   "cell_type": "code",
   "execution_count": 34,
   "metadata": {
    "scrolled": false
   },
   "outputs": [
    {
     "name": "stdout",
     "output_type": "stream",
     "text": [
      "                              OLS Regression Results                              \n",
      "==================================================================================\n",
      "Dep. Variable:     per_undergrad_employed   R-squared:                       0.000\n",
      "Model:                                OLS   Adj. R-squared:                 -0.006\n",
      "Method:                     Least Squares   F-statistic:                   0.03287\n",
      "Date:                    Wed, 17 Mar 2021   Prob (F-statistic):              0.856\n",
      "Time:                            16:20:09   Log-Likelihood:                 194.00\n",
      "No. Observations:                     173   AIC:                            -384.0\n",
      "Df Residuals:                         171   BIC:                            -377.7\n",
      "Df Model:                               1                                         \n",
      "Covariance Type:                nonrobust                                         \n",
      "======================================================================================\n",
      "                         coef    std err          t      P>|t|      [0.025      0.975]\n",
      "--------------------------------------------------------------------------------------\n",
      "Intercept              0.7246      0.007    105.990      0.000       0.711       0.738\n",
      "Undergrad_employed  3.779e-09   2.08e-08      0.181      0.856   -3.74e-08    4.49e-08\n",
      "==============================================================================\n",
      "Omnibus:                       30.683   Durbin-Watson:                   1.366\n",
      "Prob(Omnibus):                  0.000   Jarque-Bera (JB):               48.682\n",
      "Skew:                          -0.931   Prob(JB):                     2.68e-11\n",
      "Kurtosis:                       4.813   Cond. No.                     3.72e+05\n",
      "==============================================================================\n",
      "\n",
      "Warnings:\n",
      "[1] Standard Errors assume that the covariance matrix of the errors is correctly specified.\n",
      "[2] The condition number is large, 3.72e+05. This might indicate that there are\n",
      "strong multicollinearity or other numerical problems.\n"
     ]
    }
   ],
   "source": [
    "outcome, predictor = patsy.dmatrices('per_undergrad_employed ~ Undergrad_employed', percent_grad_students)\n",
    "mod = sm.OLS(outcome, predictor)\n",
    "res = mod.fit()\n",
    "print(res.summary())"
   ]
  },
  {
   "cell_type": "markdown",
   "metadata": {},
   "source": [
    "Looking at our coefficient, we can see that its an extremely small number. This suggests that the effect is pretty small, which is further reflected in the p-value. We can therefore conclude that based on the data we have, there is a relationship between the graduate employment and percentage of undergraduate employment but that effect is quite minimal."
   ]
  },
  {
   "cell_type": "markdown",
   "metadata": {},
   "source": [
    "# Ethics & Privacy"
   ]
  },
  {
   "cell_type": "markdown",
   "metadata": {},
   "source": [
    "**Privacy:** The dataset we received from FiveThirtyEight contained only a list of majors and the counts of the amount of grads within each major. Individual graduates and personally identifiable information are not listed, therefore we do not need to anonymize the data.\n",
    "\n",
    "**Ethics:** Our initial concern focused around the precedent for bias between demographic information and employment rates. However, without the inclusion of individual ethnicities or demographic backgrounds, the datasets should not leave any room to discriminate against certain groups of people. Containing only major, gender, and employment situations, we should be able to focus solely on the relationship between major departments and employment rates without worry of overlooking certain groups of people. "
   ]
  },
  {
   "cell_type": "markdown",
   "metadata": {},
   "source": [
    "# Conclusion & Discussion"
   ]
  },
  {
   "cell_type": "markdown",
   "metadata": {},
   "source": [
    "From analyzing the relationship between the popularity of a degree and employment rate of jobs that need that specific degree, we concluded that there is no correlation between these two factors. We can see this because all of our p-values appear to be bigger than 0.03 which means that we fail to reject the null hypothesis that there is no relationship between popularity and employment of a major. We originally hypothesized that the higher the enrollment in one major, the higher the employment rate for that given major. From looking over our dataset again, we can see why there could be no correlation. For example, we can see that acquiring a business degree is a very popular choice for college students to take, but the percent of students going into a job that requires a business degree is substantially lower than other degrees. From this, we see that there are other factors that go into determining the percentage of students who utilize their degrees in their careers and that this percentage is not solely based on the total count of students declaring that major. Nursing was a good example in which, contrary to the results regarding the Business degree, was a popular major while also having a high percentage of its students pursue nursing careers. We see this in similar niche STEM majors where degree may be required as a prerequisite for the position.\n",
    "\n",
    "While our datasets cover the years 2010-2012, we understand that the datasets themselves do not differentiate between data by year. Being a summation of the three year period, the most we could do was compare ratios between the counts in differing majors and students' possible job circumstances instead of changes throughout time. \n",
    "\n",
    "Another observation that we noticed is that the difference of employment rates between graduate and undergraduate students is never more than 10% with some categories such as Law and Public Policy being almost a 0% difference. In conclusion, we have no significant evidence to suggest that there is a proper relationship between employment requiring a certain degree and that degree’s popularity."
   ]
  },
  {
   "cell_type": "markdown",
   "metadata": {},
   "source": [
    "# Team Contributions"
   ]
  },
  {
   "cell_type": "markdown",
   "metadata": {},
   "source": [
    "- Alex Cheng\n",
    "    - Data Analysis \n",
    "- Samarth Arora\n",
    "    - Research Question and Hypothesis\n",
    "- Terence Ting\n",
    "    - Data Analysis\n",
    "- Thomas Kolinek\n",
    "    - Conclusion & Discussion\n",
    "- Yicong Guo\n",
    "    - Background"
   ]
  }
 ],
 "metadata": {
  "kernelspec": {
   "display_name": "Python 3",
   "language": "python",
   "name": "python3"
  },
  "language_info": {
   "codemirror_mode": {
    "name": "ipython",
    "version": 3
   },
   "file_extension": ".py",
   "mimetype": "text/x-python",
   "name": "python",
   "nbconvert_exporter": "python",
   "pygments_lexer": "ipython3",
   "version": "3.7.6"
  }
 },
 "nbformat": 4,
 "nbformat_minor": 2
}
