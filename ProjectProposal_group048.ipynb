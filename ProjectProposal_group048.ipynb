{
 "cells": [
  {
   "cell_type": "markdown",
   "metadata": {},
   "source": [
    "# COGS 108 - Final Project Proposal"
   ]
  },
  {
   "cell_type": "markdown",
   "metadata": {},
   "source": [
    "# Names\n",
    "\n",
    "- Alex Cheng\n",
    "- Samarth Arora\n",
    "- Terence Ting\n",
    "- Thomas Kolinek\n",
    "- Yicong Guo"
   ]
  },
  {
   "cell_type": "markdown",
   "metadata": {},
   "source": [
    "# Research Question"
   ]
  },
  {
   "cell_type": "markdown",
   "metadata": {},
   "source": [
    "Is average GPA the only factor that significantly affects a college's retention rate or are there better metrics we can use like?\n",
    "- Major Department\n",
    "- Family Income\n",
    "- Demographics\n",
    "- College Year (1st, 2nd, 3rd, 4th, etc.)\n",
    "- Financial Support"
   ]
  },
  {
   "cell_type": "markdown",
   "metadata": {},
   "source": [
    "## Background and Prior Work"
   ]
  },
  {
   "cell_type": "markdown",
   "metadata": {},
   "source": [
    "GPA: The increasingly failing courses can lead students to feel overwhelmed when repeating foundation courses, and the overwhelming amount of piled up work will cause students to feel stressed and unmotivated. Also, for that reason, the students will struggle with paying up for an extra year of school and feel like the major that they chose is not suited for them anymore.\n",
    "\n",
    "While we understand that GPA is a good measure in how a student is performing academically, low academic performance may not be the only reason behind a college’s retention rate. Other factors may include students transferring-out or dropping out for other reasons, perhaps pertaining to students’ choice in major. \n",
    "\n",
    "**References**\n",
    "- https://ir.ucsd.edu/undergrad/publications/retention-reports.html\n",
    "- https://grad.ucsd.edu/about/grad-data/completion-rates.html\n",
    "- https://www.ellsworthamerican.com/opinions/many-factors-influence-college-graduation-rates/\n",
    "- https://www.uplanner.com/en/blog/8-causas-de-desercion-estudiantil-en-la-educacion-superior/"
   ]
  },
  {
   "cell_type": "markdown",
   "metadata": {},
   "source": [
    "# Hypothesis\n"
   ]
  },
  {
   "cell_type": "markdown",
   "metadata": {},
   "source": [
    "We hypothesize that on average if a university does have a higher GPA average, then that university will also have a higher retention rate. However other factors in our project like family income, year, and financial support from the university  will also have an impact on retention rates that can't be explained through GPA average alone."
   ]
  },
  {
   "cell_type": "markdown",
   "metadata": {},
   "source": [
    "# Data"
   ]
  },
  {
   "cell_type": "markdown",
   "metadata": {},
   "source": [
    "The ideal dataset we would use to analyze this question would be one that includes the GPA’s of college students as well as the Major Department they belong to. From this dataset, we should also see whether or not these students ended up graduating from that college. Other factors we might want to consider could be their family income or demographic to see if either of those possibly had an effect on the retention rates of students. Finally, data that includes whether or not the student had any financial aid, from the university or outside sources, would be beneficial to seeing whether or not it was a factor in a college’s retention rate. \n"
   ]
  },
  {
   "cell_type": "markdown",
   "metadata": {},
   "source": [
    "# Ethics & Privacy"
   ]
  },
  {
   "cell_type": "markdown",
   "metadata": {},
   "source": [
    "We understand that this type of data, especialy student data is sensitive and will thus anonymize all the data we use regardless of where we get it from. If we access private data (data not freely available online) we will secure it safely.\n",
    "\n",
    "In addition to this we understand that there is precedent for bias between demographic information and college dropout rates and not correcting for this bias can have harmful consequences. If we are unable to understand and properly correct for this bias,  we will drop it from our final evaluation.\n"
   ]
  },
  {
   "cell_type": "markdown",
   "metadata": {},
   "source": [
    "# Team Expectations "
   ]
  },
  {
   "cell_type": "markdown",
   "metadata": {},
   "source": [
    "- Attend meetings and inform ahead of time whether there are schedule conflicts or you are unable to attend\n",
    "- Get work assigned done in a timely manner or communicate with the team whether it may need more time or need help\n",
    "- Do not be extremely behind on lectures before each meeting"
   ]
  },
  {
   "cell_type": "markdown",
   "metadata": {},
   "source": [
    "# Project Timeline Proposal"
   ]
  },
  {
   "cell_type": "markdown",
   "metadata": {},
   "source": [
    "| Meeting Date  | Meeting Time| Completed Before Meeting  | Discuss at Meeting |\n",
    "|---|---|---|---|\n",
    "| 1/28  |  5 PM | Think about possible research topcs  | Come to an agreement on a proposal | \n",
    "| 2/4  |  5 PM |  Prepare an idea of how to approach the question | Discuss with the team how to best approach the research question and come to a concensus | \n",
    "| 2/11  | 5 PM  | Search for data and wrangle relevant data  | Chart compilation; Possibly search for other datasets; Prepare for Checkpoint #1   |\n",
    "| 2/18  | 5 PM  | Analyze the data and charts | Analyze the data and discuss how to best present it   |\n",
    "| 2/25  | 5 PM  | Prepare idea proposals for graphs | Make Graphs and look over interesting relationships; Prepare for Checkpoint #2 |\n",
    "| 3/4  | 5 PM  | Film presentation scenes| Compile final thoughts on video |\n",
    "| 3/11  | 5 PM  | Check over everything | Turn in Final Project & Group Project Surveys |"
   ]
  },
  {
   "cell_type": "code",
   "execution_count": null,
   "metadata": {},
   "outputs": [],
   "source": []
  }
 ],
 "metadata": {
  "kernelspec": {
   "display_name": "Python 3",
   "language": "python",
   "name": "python3"
  },
  "language_info": {
   "codemirror_mode": {
    "name": "ipython",
    "version": 3
   },
   "file_extension": ".py",
   "mimetype": "text/x-python",
   "name": "python",
   "nbconvert_exporter": "python",
   "pygments_lexer": "ipython3",
   "version": "3.7.6"
  }
 },
 "nbformat": 4,
 "nbformat_minor": 2
}